{
 "cells": [
  {
   "cell_type": "markdown",
   "id": "be900210",
   "metadata": {},
   "source": [
    "# **Simple Linear Regression Using Python**"
   ]
  },
  {
   "cell_type": "markdown",
   "id": "14ce2664",
   "metadata": {},
   "source": [
    "## **Modelling the linear relationship between Salary and Percentage in the used dataset**\n",
    "The aim is to predict the Salary based on Percentage in Grade 10."
   ]
  },
  {
   "cell_type": "markdown",
   "id": "94bfff21",
   "metadata": {},
   "source": [
    "## **Introduction**\n",
    "Let's get familiarised with the some of the basic terms to be used:"
   ]
  },
  {
   "cell_type": "markdown",
   "id": "138eef7b",
   "metadata": {},
   "source": [
    "### **Python**\n",
    "It is an interpreted **high-level general-purpose and open-source programming language**.It is often used to build websites and software, automate tasks, and conduct data analysis. Python is a general purpose language, meaning it can be used to create a variety of different programs and isn't specialized for any specific problems.\n",
    "\n",
    "There are over **137,000 python libraries** present today. Python libraries **play a vital role in developing machine learning, data science, data visualization, image and data manipulation applications and more.**"
   ]
  },
  {
   "cell_type": "markdown",
   "id": "5f110fbc",
   "metadata": {},
   "source": [
    "### **What is a Dataset?**\n",
    "A data set is a collection of numbers or values that relate to a particular subject. For example, the test scores of each student in a particular class is a data set."
   ]
  },
  {
   "cell_type": "markdown",
   "id": "4ef83c4f",
   "metadata": {},
   "source": [
    "### **Data Visualization :**\n",
    "**Data visualization** is an interdisciplinary field that deals with the graphic representation of information and data. It is a particularly efficient way of communicating when the data is numerous as for example a time series.By using visual elements like charts, graphs, and maps, data visualization tools provide an accessible way to see and understand trends, outliers, and patterns in data.\n",
    "\n",
    "\n",
    "In the world of Big Data, data visualization tools and technologies are essential to analyze massive amounts of information and make data-driven decisions."
   ]
  },
  {
   "cell_type": "markdown",
   "id": "c20af049",
   "metadata": {},
   "source": [
    "### **Data Cleaning :**\n",
    "It is the process of fixing or removing incorrect, corrupted, incorrectly formatted, duplicate, or incomplete data within a dataset."
   ]
  },
  {
   "cell_type": "markdown",
   "id": "be39b4dc",
   "metadata": {},
   "source": [
    "### **Supervised Learning :**\n",
    "**A supervised learning algorithm** analyzes the training data and produces an inferred function, which can be used for mapping new examples.\n",
    "The model is trained using labeled data. Datasets are said to contain labels that contain both input and output parameters."
   ]
  },
  {
   "cell_type": "markdown",
   "id": "2cd98dad",
   "metadata": {},
   "source": [
    "### **Define : Linear Regression**\n",
    "**Linear regression** is used for finding linear relationship between target and one or more predictors or it is a statistical technique which is used to find the linear relationship between dependent and one or more independent variables. \n",
    "There are two types of linear regression- Simple and Multiple."
   ]
  },
  {
   "cell_type": "markdown",
   "id": "127012cd",
   "metadata": {},
   "source": [
    "### **Define : Simple Linear Regression(SLR)**\n",
    "**Simple linear regression** is useful for finding relationship between two continuous variables. One is predictor or independent variable and other is response or dependent variable. It looks for statistical relationship but not deterministic relationship.\n",
    "Relationship between two variables is said to be deterministic if one variable can be accurately expressed by the other. \n",
    "\n",
    "For example, using temperature in degree Celsius it is possible to accurately predict Fahrenheit. Statistical relationship is not accurate in determining relationship between two variables. \n",
    "For example, relationship between height and weight."
   ]
  },
  {
   "cell_type": "markdown",
   "id": "10a2c61c",
   "metadata": {},
   "source": [
    "### **Ordinary Least Square (OLS) :**\n",
    "In statistics, ordinary least squares (OLS) or linear least squares is a method for estimating the unknown parameters in a linear regression model."
   ]
  },
  {
   "cell_type": "markdown",
   "id": "6a1092a0",
   "metadata": {},
   "source": [
    "### **Training Model :**\n",
    "In supervised learning, an ML Algorithm builds a model by examining many examples and attempting to find a model that minimizes loss and improves prediction accuracy.\n",
    "A training model is a dataset that is used to train an ML algorithm. It consists of the sample output data and the corresponding sets of input data that have an influence on the output. The training model is used to run the input data through the algorithm to correlate the processed output against the sample output.\n",
    "\n",
    "These are the few terms which are helpful for you to get familiarize with.Now let’s get started with the analysis and prediction of the model. \n",
    "\n",
    "\n",
    "I have used Python Programming Language to build and train the model.\n",
    "\n",
    " "
   ]
  },
  {
   "cell_type": "markdown",
   "id": "075f2260",
   "metadata": {},
   "source": [
    "### **R-Squared :**\n",
    "R-squared measures the amount of variance around the fitted values.R-squared evaluates the scatter of the data points around the fitted regression line. "
   ]
  },
  {
   "cell_type": "markdown",
   "id": "7dcdd05b",
   "metadata": {},
   "source": [
    "### **RMSE :**\n",
    "Root Mean Square Error (RMSE) is the standard deviation of the residuals (prediction errors). Residuals are a measure of how far from the regression line data points are; RMSE is a measure of how spread out these residuals are. \n",
    "\n",
    "It gives us the standard deviation of the unexplained variance by the model.It can be calculated by taking square root of Mean Squared Error. It is an absolute measure of fit."
   ]
  },
  {
   "cell_type": "markdown",
   "id": "c785eeba",
   "metadata": {},
   "source": [
    "### **Residual Analysis**\n",
    "Residuals are differences between the one-step-predicted output from the model and the measured output from the validation data set. Thus, residuals represent the portion of the validation data not explained by the model.\n",
    "A residual plot is a graph that shows the residuals on the vertical axis and the independent variable on the horizontal axis"
   ]
  },
  {
   "cell_type": "markdown",
   "id": "a6a609ab",
   "metadata": {},
   "source": [
    "### **homoscedasticity**\n",
    "In regression analysis , homoscedasticity means a situation in which the variance of the dependent variable is the same for all the data. Homoscedasticity is facilitates analysis because most methods are based on the assumption of equal variance."
   ]
  },
  {
   "cell_type": "markdown",
   "id": "88ddde82",
   "metadata": {},
   "source": [
    "### **Information on which software I used for this :**\n",
    "I did this project using Juypter Notebook.\n",
    "\n",
    "The server is running on Python(Python 3.8.11),Anaconda Distribution."
   ]
  },
  {
   "cell_type": "markdown",
   "id": "6426f34d",
   "metadata": {},
   "source": [
    "### **Python Libraries :**\n",
    "The basic python libraries used here are:-\n",
    "\n",
    "**-NumPy** : It is the fundamental package for **scientific computing** in Python.\n",
    "    \n",
    "**-Pandas** : Pandas is a fast, powerful, flexible and easy to use open source **data analysis and manipulation tool**, built on                 top of the Python programming language .\n",
    "\n",
    "**-Scikit-Learn** : It features various **classification, regression and clustering algorithms.**\n",
    "\n",
    "**-Matplotlib** : It is a **plotting library** for the Python programming language.It provides an object-oriented API for embedding plots into applications using general-purpose GUI toolkits.\n",
    "\n",
    "**-statsmodels** : It is a Python module that provides classes and functions for the estimation of many different statistical models.\n",
    "\n",
    "**-SciPy** : is a free and open-source Python library used for scientific computing and technical computing. SciPy contains modules for optimization, linear algebra, integration, interpolation, special functions, FFT, signal and image processing, ODE solvers and other tasks common in science and engineering."
   ]
  }
 ],
 "metadata": {
  "kernelspec": {
   "display_name": "Python 3 (ipykernel)",
   "language": "python",
   "name": "python3"
  },
  "language_info": {
   "codemirror_mode": {
    "name": "ipython",
    "version": 3
   },
   "file_extension": ".py",
   "mimetype": "text/x-python",
   "name": "python",
   "nbconvert_exporter": "python",
   "pygments_lexer": "ipython3",
   "version": "3.8.11"
  }
 },
 "nbformat": 4,
 "nbformat_minor": 5
}
