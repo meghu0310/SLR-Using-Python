{
 "cells": [
  {
   "cell_type": "markdown",
   "id": "be900210",
   "metadata": {},
   "source": [
    "# **Simple Linear Regression Using (OLS) in Python**"
   ]
  },
  {
   "cell_type": "markdown",
   "id": "14ce2664",
   "metadata": {},
   "source": [
    "## **Modelling the linear relationship between Salary and Percentage in the used dataset**\n",
    "\n",
    "The aim is to predict the Salary based on Percentage in Grade 10."
   ]
  },
  {
   "cell_type": "markdown",
   "id": "94bfff21",
   "metadata": {},
   "source": [
    "## **Introduction**\n",
    "Let's get familiarised with the some of the basic terms to be used:"
   ]
  },
  {
   "cell_type": "markdown",
   "id": "5f110fbc",
   "metadata": {},
   "source": [
    "### **What is a Dataset?**\n",
    "A data set is a collection of numbers or values that relate to a particular subject. For example, the test scores of each student in a particular class is a data set."
   ]
  },
  {
   "cell_type": "markdown",
   "id": "4ef83c4f",
   "metadata": {},
   "source": [
    "### **Data Visualization :**\n",
    "**Data visualization** is an interdisciplinary field that deals with the graphic representation of information and data. It is a particularly efficient way of communicating when the data is numerous as for example a time series.By using visual elements like charts, graphs, and maps, data visualization tools provide an accessible way to see and understand trends, outliers, and patterns in data.\n",
    "\n",
    "\n",
    "In the world of Big Data, data visualization tools and technologies are essential to analyze massive amounts of information and make data-driven decisions."
   ]
  },
  {
   "cell_type": "markdown",
   "id": "c20af049",
   "metadata": {},
   "source": [
    "### **Data Cleaning :**\n",
    "It is the process of fixing or removing incorrect, corrupted, incorrectly formatted, duplicate, or incomplete data within a dataset."
   ]
  },
  {
   "cell_type": "markdown",
   "id": "be39b4dc",
   "metadata": {},
   "source": [
    "### **Supervised Learning :**\n",
    "**A supervised learning algorithm** analyzes the training data and produces an inferred function, which can be used for mapping new examples.\n",
    "The model is trained using labeled data. Datasets are said to contain labels that contain both input and output parameters."
   ]
  },
  {
   "cell_type": "markdown",
   "id": "2cd98dad",
   "metadata": {},
   "source": [
    "### **Define : Linear Regression**\n",
    "**Linear regression** is used for finding linear relationship between target and one or more predictors or it is a statistical technique which is used to find the linear relationship between dependent and one or more independent variables. \n",
    "There are two types of linear regression- Simple and Multiple."
   ]
  },
  {
   "cell_type": "markdown",
   "id": "127012cd",
   "metadata": {},
   "source": [
    "### **Define : Simple Linear Regression(SLR)**\n",
    "**Simple linear regression** is useful for finding relationship between two continuous variables. One is predictor or independent variable and other is response or dependent variable. It looks for statistical relationship but not deterministic relationship.\n",
    "Relationship between two variables is said to be deterministic if one variable can be accurately expressed by the other. \n",
    "\n",
    "For example, using temperature in degree Celsius it is possible to accurately predict Fahrenheit. Statistical relationship is not accurate in determining relationship between two variables. \n",
    "For example, relationship between height and weight."
   ]
  },
  {
   "cell_type": "markdown",
   "id": "913b3731",
   "metadata": {},
   "source": [
    "### **Ordinary Least Square (OLS) :**\n",
    "In statistics, ordinary least squares (OLS) or linear least squares is a method for estimating the unknown parameters in a linear regression model."
   ]
  },
  {
   "cell_type": "markdown",
   "id": "6a1092a0",
   "metadata": {},
   "source": [
    "### **Training Model :**\n",
    "In supervised learning, an ML Algorithm builds a model by examining many examples and attempting to find a model that minimizes loss and improves prediction accuracy.\n",
    "A training model is a dataset that is used to train an ML algorithm. It consists of the sample output data and the corresponding sets of input data that have an influence on the output. The training model is used to run the input data through the algorithm to correlate the processed output against the sample output.\n",
    "\n",
    "These are the few terms which are helpful for you to get familiarize with.Now let’s get started with the analysis and prediction of the model. \n",
    "\n",
    "\n",
    "I have used Python Programming Language to build and train the model.\n",
    "\n",
    " "
   ]
  },
  {
   "cell_type": "markdown",
   "id": "88ddde82",
   "metadata": {},
   "source": [
    "### **Information on which software I used for this :**\n",
    "I did this project using Juypter Notebook.\n",
    "\n",
    "The server is running on Python(Python 3.8.11),Anaconda Distribution."
   ]
  },
  {
   "cell_type": "markdown",
   "id": "6426f34d",
   "metadata": {},
   "source": [
    "### **Python Libraries :**\n",
    "The basic python libraries used here are:-\n",
    "\n",
    "**-NumPy** : It is the fundamental package for **scientific computing** in Python.\n",
    "    \n",
    "**-Pandas** : Pandas is a fast, powerful, flexible and easy to use open source **data analysis and manipulation tool**, built on                 top of the Python programming language .\n",
    "\n",
    "**-Scikit-Learn** : It features various **classification, regression and clustering algorithms.**\n",
    "\n",
    "**-Matplotlib** : It is a **plotting library** for the Python programming language.It provides an object-oriented API for embedding plots into applications using general-purpose GUI toolkits.\n",
    "\n",
    "**-statsmodels** : It is a Python module that provides classes and functions for the estimation of many different statistical models.\n",
    "\n",
    "**-SciPy** : is a free and open-source Python library used for scientific computing and technical computing. SciPy contains modules for optimization, linear algebra, integration, interpolation, special functions, FFT, signal and image processing, ODE solvers and other tasks common in science and engineering."
   ]
  },
  {
   "cell_type": "markdown",
   "id": "b3310f13",
   "metadata": {},
   "source": [
    "\n",
    "\n",
    "\n",
    "#### **Importing the necessary libraries**"
   ]
  },
  {
   "cell_type": "code",
   "execution_count": 36,
   "id": "f43110f4",
   "metadata": {},
   "outputs": [],
   "source": [
    "import pandas as pd\n",
    "import matplotlib.pyplot as plt\n",
    "import statsmodels.api as sm\n",
    "from sklearn.model_selection import train_test_split\n",
    "from scipy.stats import zscore\n",
    "from sklearn.metrics import r2_score, mean_squared_error"
   ]
  },
  {
   "cell_type": "markdown",
   "id": "81b2aa7d",
   "metadata": {},
   "source": [
    "#### **Importing the Dataset**"
   ]
  },
  {
   "cell_type": "code",
   "execution_count": 11,
   "id": "aef11481",
   "metadata": {},
   "outputs": [],
   "source": [
    "#importing the data from MBA Salary.csv\n",
    "\n",
    "url=\"C:\\datasets\\MBA_Salary.csv\"  #Give path of where you have saved your csv file\n",
    "mba_salary_df = pd.read_csv(url)"
   ]
  },
  {
   "cell_type": "code",
   "execution_count": 12,
   "id": "db85d0ab",
   "metadata": {},
   "outputs": [
    {
     "data": {
      "text/html": [
       "<div>\n",
       "<style scoped>\n",
       "    .dataframe tbody tr th:only-of-type {\n",
       "        vertical-align: middle;\n",
       "    }\n",
       "\n",
       "    .dataframe tbody tr th {\n",
       "        vertical-align: top;\n",
       "    }\n",
       "\n",
       "    .dataframe thead th {\n",
       "        text-align: right;\n",
       "    }\n",
       "</style>\n",
       "<table border=\"1\" class=\"dataframe\">\n",
       "  <thead>\n",
       "    <tr style=\"text-align: right;\">\n",
       "      <th></th>\n",
       "      <th>S. No.</th>\n",
       "      <th>Percentage in Grade 10</th>\n",
       "      <th>Salary</th>\n",
       "    </tr>\n",
       "  </thead>\n",
       "  <tbody>\n",
       "    <tr>\n",
       "      <th>0</th>\n",
       "      <td>1</td>\n",
       "      <td>62.00</td>\n",
       "      <td>270000</td>\n",
       "    </tr>\n",
       "    <tr>\n",
       "      <th>1</th>\n",
       "      <td>2</td>\n",
       "      <td>76.33</td>\n",
       "      <td>200000</td>\n",
       "    </tr>\n",
       "    <tr>\n",
       "      <th>2</th>\n",
       "      <td>3</td>\n",
       "      <td>72.00</td>\n",
       "      <td>240000</td>\n",
       "    </tr>\n",
       "    <tr>\n",
       "      <th>3</th>\n",
       "      <td>4</td>\n",
       "      <td>60.00</td>\n",
       "      <td>250000</td>\n",
       "    </tr>\n",
       "    <tr>\n",
       "      <th>4</th>\n",
       "      <td>5</td>\n",
       "      <td>61.00</td>\n",
       "      <td>180000</td>\n",
       "    </tr>\n",
       "    <tr>\n",
       "      <th>5</th>\n",
       "      <td>6</td>\n",
       "      <td>55.00</td>\n",
       "      <td>300000</td>\n",
       "    </tr>\n",
       "    <tr>\n",
       "      <th>6</th>\n",
       "      <td>7</td>\n",
       "      <td>70.00</td>\n",
       "      <td>260000</td>\n",
       "    </tr>\n",
       "    <tr>\n",
       "      <th>7</th>\n",
       "      <td>8</td>\n",
       "      <td>68.00</td>\n",
       "      <td>235000</td>\n",
       "    </tr>\n",
       "    <tr>\n",
       "      <th>8</th>\n",
       "      <td>9</td>\n",
       "      <td>82.80</td>\n",
       "      <td>425000</td>\n",
       "    </tr>\n",
       "    <tr>\n",
       "      <th>9</th>\n",
       "      <td>10</td>\n",
       "      <td>59.00</td>\n",
       "      <td>240000</td>\n",
       "    </tr>\n",
       "  </tbody>\n",
       "</table>\n",
       "</div>"
      ],
      "text/plain": [
       "   S. No.  Percentage in Grade 10  Salary\n",
       "0       1                   62.00  270000\n",
       "1       2                   76.33  200000\n",
       "2       3                   72.00  240000\n",
       "3       4                   60.00  250000\n",
       "4       5                   61.00  180000\n",
       "5       6                   55.00  300000\n",
       "6       7                   70.00  260000\n",
       "7       8                   68.00  235000\n",
       "8       9                   82.80  425000\n",
       "9      10                   59.00  240000"
      ]
     },
     "execution_count": 12,
     "metadata": {},
     "output_type": "execute_result"
    }
   ],
   "source": [
    "#printing top 10 rows\n",
    "mba_salary_df.head(10)"
   ]
  },
  {
   "cell_type": "code",
   "execution_count": 13,
   "id": "42c5f5ea",
   "metadata": {},
   "outputs": [
    {
     "data": {
      "text/html": [
       "<div>\n",
       "<style scoped>\n",
       "    .dataframe tbody tr th:only-of-type {\n",
       "        vertical-align: middle;\n",
       "    }\n",
       "\n",
       "    .dataframe tbody tr th {\n",
       "        vertical-align: top;\n",
       "    }\n",
       "\n",
       "    .dataframe thead th {\n",
       "        text-align: right;\n",
       "    }\n",
       "</style>\n",
       "<table border=\"1\" class=\"dataframe\">\n",
       "  <thead>\n",
       "    <tr style=\"text-align: right;\">\n",
       "      <th></th>\n",
       "      <th>S. No.</th>\n",
       "      <th>Percentage in Grade 10</th>\n",
       "      <th>Salary</th>\n",
       "    </tr>\n",
       "  </thead>\n",
       "  <tbody>\n",
       "    <tr>\n",
       "      <th>40</th>\n",
       "      <td>41</td>\n",
       "      <td>76.00</td>\n",
       "      <td>393000</td>\n",
       "    </tr>\n",
       "    <tr>\n",
       "      <th>41</th>\n",
       "      <td>42</td>\n",
       "      <td>64.80</td>\n",
       "      <td>360000</td>\n",
       "    </tr>\n",
       "    <tr>\n",
       "      <th>42</th>\n",
       "      <td>43</td>\n",
       "      <td>74.40</td>\n",
       "      <td>300000</td>\n",
       "    </tr>\n",
       "    <tr>\n",
       "      <th>43</th>\n",
       "      <td>44</td>\n",
       "      <td>74.50</td>\n",
       "      <td>250000</td>\n",
       "    </tr>\n",
       "    <tr>\n",
       "      <th>44</th>\n",
       "      <td>45</td>\n",
       "      <td>73.50</td>\n",
       "      <td>360000</td>\n",
       "    </tr>\n",
       "    <tr>\n",
       "      <th>45</th>\n",
       "      <td>46</td>\n",
       "      <td>57.58</td>\n",
       "      <td>180000</td>\n",
       "    </tr>\n",
       "    <tr>\n",
       "      <th>46</th>\n",
       "      <td>47</td>\n",
       "      <td>68.00</td>\n",
       "      <td>180000</td>\n",
       "    </tr>\n",
       "    <tr>\n",
       "      <th>47</th>\n",
       "      <td>48</td>\n",
       "      <td>69.00</td>\n",
       "      <td>270000</td>\n",
       "    </tr>\n",
       "    <tr>\n",
       "      <th>48</th>\n",
       "      <td>49</td>\n",
       "      <td>66.00</td>\n",
       "      <td>240000</td>\n",
       "    </tr>\n",
       "    <tr>\n",
       "      <th>49</th>\n",
       "      <td>50</td>\n",
       "      <td>60.80</td>\n",
       "      <td>300000</td>\n",
       "    </tr>\n",
       "  </tbody>\n",
       "</table>\n",
       "</div>"
      ],
      "text/plain": [
       "    S. No.  Percentage in Grade 10  Salary\n",
       "40      41                   76.00  393000\n",
       "41      42                   64.80  360000\n",
       "42      43                   74.40  300000\n",
       "43      44                   74.50  250000\n",
       "44      45                   73.50  360000\n",
       "45      46                   57.58  180000\n",
       "46      47                   68.00  180000\n",
       "47      48                   69.00  270000\n",
       "48      49                   66.00  240000\n",
       "49      50                   60.80  300000"
      ]
     },
     "execution_count": 13,
     "metadata": {},
     "output_type": "execute_result"
    }
   ],
   "source": [
    "#printing last five rows\n",
    "mba_salary_df.tail(10)"
   ]
  },
  {
   "cell_type": "code",
   "execution_count": 14,
   "id": "7aa2b735",
   "metadata": {},
   "outputs": [
    {
     "data": {
      "text/plain": [
       "(50, 3)"
      ]
     },
     "execution_count": 14,
     "metadata": {},
     "output_type": "execute_result"
    }
   ],
   "source": [
    "#shape of data frame\n",
    "mba_salary_df.shape"
   ]
  },
  {
   "cell_type": "code",
   "execution_count": 15,
   "id": "d94bee4a",
   "metadata": {},
   "outputs": [
    {
     "name": "stdout",
     "output_type": "stream",
     "text": [
      "<class 'pandas.core.frame.DataFrame'>\n",
      "RangeIndex: 50 entries, 0 to 49\n",
      "Data columns (total 3 columns):\n",
      " #   Column                  Non-Null Count  Dtype  \n",
      "---  ------                  --------------  -----  \n",
      " 0   S. No.                  50 non-null     int64  \n",
      " 1   Percentage in Grade 10  50 non-null     float64\n",
      " 2   Salary                  50 non-null     int64  \n",
      "dtypes: float64(1), int64(2)\n",
      "memory usage: 1.3 KB\n"
     ]
    }
   ],
   "source": [
    "#Getting basic information about the dataframe\n",
    "mba_salary_df.info()"
   ]
  },
  {
   "cell_type": "code",
   "execution_count": 17,
   "id": "fa7bfebd",
   "metadata": {},
   "outputs": [
    {
     "data": {
      "text/html": [
       "<div>\n",
       "<style scoped>\n",
       "    .dataframe tbody tr th:only-of-type {\n",
       "        vertical-align: middle;\n",
       "    }\n",
       "\n",
       "    .dataframe tbody tr th {\n",
       "        vertical-align: top;\n",
       "    }\n",
       "\n",
       "    .dataframe thead th {\n",
       "        text-align: right;\n",
       "    }\n",
       "</style>\n",
       "<table border=\"1\" class=\"dataframe\">\n",
       "  <thead>\n",
       "    <tr style=\"text-align: right;\">\n",
       "      <th></th>\n",
       "      <th>S. No.</th>\n",
       "      <th>Percentage in Grade 10</th>\n",
       "      <th>Salary</th>\n",
       "    </tr>\n",
       "  </thead>\n",
       "  <tbody>\n",
       "    <tr>\n",
       "      <th>count</th>\n",
       "      <td>50.00000</td>\n",
       "      <td>50.000000</td>\n",
       "      <td>50.000000</td>\n",
       "    </tr>\n",
       "    <tr>\n",
       "      <th>mean</th>\n",
       "      <td>25.50000</td>\n",
       "      <td>63.922400</td>\n",
       "      <td>258192.000000</td>\n",
       "    </tr>\n",
       "    <tr>\n",
       "      <th>std</th>\n",
       "      <td>14.57738</td>\n",
       "      <td>9.859937</td>\n",
       "      <td>76715.790993</td>\n",
       "    </tr>\n",
       "    <tr>\n",
       "      <th>min</th>\n",
       "      <td>1.00000</td>\n",
       "      <td>37.330000</td>\n",
       "      <td>120000.000000</td>\n",
       "    </tr>\n",
       "    <tr>\n",
       "      <th>25%</th>\n",
       "      <td>13.25000</td>\n",
       "      <td>57.685000</td>\n",
       "      <td>204500.000000</td>\n",
       "    </tr>\n",
       "    <tr>\n",
       "      <th>50%</th>\n",
       "      <td>25.50000</td>\n",
       "      <td>64.700000</td>\n",
       "      <td>250000.000000</td>\n",
       "    </tr>\n",
       "    <tr>\n",
       "      <th>75%</th>\n",
       "      <td>37.75000</td>\n",
       "      <td>70.000000</td>\n",
       "      <td>300000.000000</td>\n",
       "    </tr>\n",
       "    <tr>\n",
       "      <th>max</th>\n",
       "      <td>50.00000</td>\n",
       "      <td>83.000000</td>\n",
       "      <td>450000.000000</td>\n",
       "    </tr>\n",
       "  </tbody>\n",
       "</table>\n",
       "</div>"
      ],
      "text/plain": [
       "         S. No.  Percentage in Grade 10         Salary\n",
       "count  50.00000               50.000000      50.000000\n",
       "mean   25.50000               63.922400  258192.000000\n",
       "std    14.57738                9.859937   76715.790993\n",
       "min     1.00000               37.330000  120000.000000\n",
       "25%    13.25000               57.685000  204500.000000\n",
       "50%    25.50000               64.700000  250000.000000\n",
       "75%    37.75000               70.000000  300000.000000\n",
       "max    50.00000               83.000000  450000.000000"
      ]
     },
     "execution_count": 17,
     "metadata": {},
     "output_type": "execute_result"
    }
   ],
   "source": [
    "#Getting high level statistics about the dataframe/frequency of entries\n",
    "mba_salary_df.describe()"
   ]
  },
  {
   "cell_type": "code",
   "execution_count": 18,
   "id": "6a4eaa1f",
   "metadata": {},
   "outputs": [
    {
     "data": {
      "text/plain": [
       "Index(['S. No.', 'Percentage in Grade 10', 'Salary'], dtype='object')"
      ]
     },
     "execution_count": 18,
     "metadata": {},
     "output_type": "execute_result"
    }
   ],
   "source": [
    "#Getting the column names \n",
    "mba_salary_df.columns"
   ]
  },
  {
   "cell_type": "markdown",
   "id": "80cf540d",
   "metadata": {},
   "source": [
    "**The statsmodel library is used for building statistical models. OLS API in statsmodel.api is used to estimate the parameters of simple linear regression.**\n",
    "\n",
    "It takes two parameters Y and X. IN this data Y is Salary and X is Percentage in Grade 10. The OLS model estimates only the coefficient of X (Beta 1 or slope). To estimate Beta 0, a constant term of 1 needs to be added as a seperate column. This parameter is the intercept term."
   ]
  },
  {
   "cell_type": "markdown",
   "id": "5bdf4abd",
   "metadata": {},
   "source": []
  },
  {
   "cell_type": "code",
   "execution_count": null,
   "id": "955ca0d1",
   "metadata": {},
   "outputs": [],
   "source": [
    "X = sm.add_constant(mba_salary_df['Percentage in Grade 10'])"
   ]
  },
  {
   "cell_type": "code",
   "execution_count": 23,
   "id": "9866ae3f",
   "metadata": {},
   "outputs": [
    {
     "data": {
      "text/html": [
       "<div>\n",
       "<style scoped>\n",
       "    .dataframe tbody tr th:only-of-type {\n",
       "        vertical-align: middle;\n",
       "    }\n",
       "\n",
       "    .dataframe tbody tr th {\n",
       "        vertical-align: top;\n",
       "    }\n",
       "\n",
       "    .dataframe thead th {\n",
       "        text-align: right;\n",
       "    }\n",
       "</style>\n",
       "<table border=\"1\" class=\"dataframe\">\n",
       "  <thead>\n",
       "    <tr style=\"text-align: right;\">\n",
       "      <th></th>\n",
       "      <th>const</th>\n",
       "      <th>Percentage in Grade 10</th>\n",
       "    </tr>\n",
       "  </thead>\n",
       "  <tbody>\n",
       "    <tr>\n",
       "      <th>0</th>\n",
       "      <td>1.0</td>\n",
       "      <td>62.00</td>\n",
       "    </tr>\n",
       "    <tr>\n",
       "      <th>1</th>\n",
       "      <td>1.0</td>\n",
       "      <td>76.33</td>\n",
       "    </tr>\n",
       "    <tr>\n",
       "      <th>2</th>\n",
       "      <td>1.0</td>\n",
       "      <td>72.00</td>\n",
       "    </tr>\n",
       "    <tr>\n",
       "      <th>3</th>\n",
       "      <td>1.0</td>\n",
       "      <td>60.00</td>\n",
       "    </tr>\n",
       "    <tr>\n",
       "      <th>4</th>\n",
       "      <td>1.0</td>\n",
       "      <td>61.00</td>\n",
       "    </tr>\n",
       "  </tbody>\n",
       "</table>\n",
       "</div>"
      ],
      "text/plain": [
       "   const  Percentage in Grade 10\n",
       "0    1.0                   62.00\n",
       "1    1.0                   76.33\n",
       "2    1.0                   72.00\n",
       "3    1.0                   60.00\n",
       "4    1.0                   61.00"
      ]
     },
     "execution_count": 23,
     "metadata": {},
     "output_type": "execute_result"
    }
   ],
   "source": [
    "X.head(5)"
   ]
  },
  {
   "cell_type": "code",
   "execution_count": 25,
   "id": "e215bbe1",
   "metadata": {},
   "outputs": [
    {
     "data": {
      "text/plain": [
       "0    270000\n",
       "1    200000\n",
       "2    240000\n",
       "3    250000\n",
       "4    180000\n",
       "Name: Salary, dtype: int64"
      ]
     },
     "execution_count": 25,
     "metadata": {},
     "output_type": "execute_result"
    }
   ],
   "source": [
    "Y = mba_salary_df['Salary']\n",
    "Y.head()"
   ]
  },
  {
   "cell_type": "markdown",
   "id": "4e30992b",
   "metadata": {},
   "source": [
    "#### **Spliting dataset into training and validation sets.** \n",
    "**Using 80% for training and 20% for validating**\n",
    "\n",
    "I splited the dataset into two sets namely - train set and test set.The model learns the relationship from the training data and predicts on test data."
   ]
  },
  {
   "cell_type": "code",
   "execution_count": 27,
   "id": "db8a252b",
   "metadata": {},
   "outputs": [],
   "source": [
    "#from sklearn.model_selection import train_test_split\n",
    "train_X, test_X, train_y, test_y = train_test_split(X,Y,train_size = 0.8, random_state = 5)"
   ]
  },
  {
   "cell_type": "markdown",
   "id": "4c2171dc",
   "metadata": {},
   "source": [
    "#### **Fitting the model**"
   ]
  },
  {
   "cell_type": "code",
   "execution_count": 29,
   "id": "49c1a97b",
   "metadata": {},
   "outputs": [],
   "source": [
    "mba_salary_lm = sm.OLS(train_y, train_X).fit()"
   ]
  },
  {
   "cell_type": "markdown",
   "id": "229f04da",
   "metadata": {},
   "source": [
    "**The fit() method on OLS, estimates the parameters and returns the model information such as model parameters(coefficients), acccuracy measures and residual values to the varibale mba_salary_sm**"
   ]
  },
  {
   "cell_type": "markdown",
   "id": "5f636dc0",
   "metadata": {},
   "source": [
    "#### **Estimated parameters**"
   ]
  },
  {
   "cell_type": "code",
   "execution_count": 30,
   "id": "fb735fdb",
   "metadata": {},
   "outputs": [
    {
     "name": "stdout",
     "output_type": "stream",
     "text": [
      "const                     26283.435050\n",
      "Percentage in Grade 10     3651.167836\n",
      "dtype: float64\n"
     ]
    }
   ],
   "source": [
    "print(mba_salary_lm.params)"
   ]
  },
  {
   "cell_type": "markdown",
   "id": "9497966d",
   "metadata": {},
   "source": [
    "#### **Model Diagnostics - Printing the coefficient of determination R-Square**"
   ]
  },
  {
   "cell_type": "code",
   "execution_count": 31,
   "id": "5c9e4f8c",
   "metadata": {},
   "outputs": [
    {
     "name": "stdout",
     "output_type": "stream",
     "text": [
      "                          Results: Ordinary least squares\n",
      "===================================================================================\n",
      "Model:                    OLS                   Adj. R-squared:          0.189     \n",
      "Dependent Variable:       Salary                AIC:                     1012.2564 \n",
      "Date:                     2021-10-14 02:03      BIC:                     1015.6341 \n",
      "No. Observations:         40                    Log-Likelihood:          -504.13   \n",
      "Df Model:                 1                     F-statistic:             10.11     \n",
      "Df Residuals:             38                    Prob (F-statistic):      0.00293   \n",
      "R-squared:                0.210                 Scale:                   5.4551e+09\n",
      "-----------------------------------------------------------------------------------\n",
      "                         Coef.     Std.Err.    t    P>|t|     [0.025       0.975]  \n",
      "-----------------------------------------------------------------------------------\n",
      "const                  26283.4351 73928.3696 0.3555 0.7242 -123376.7249 175943.5950\n",
      "Percentage in Grade 10  3651.1678  1148.3341 3.1795 0.0029    1326.4870   5975.8487\n",
      "-----------------------------------------------------------------------------------\n",
      "Omnibus:                    2.446              Durbin-Watson:                 2.219\n",
      "Prob(Omnibus):              0.294              Jarque-Bera (JB):              1.481\n",
      "Skew:                       0.184              Prob(JB):                      0.477\n",
      "Kurtosis:                   2.133              Condition No.:                 408  \n",
      "===================================================================================\n",
      "\n"
     ]
    }
   ],
   "source": [
    "print(mba_salary_lm.summary2())"
   ]
  },
  {
   "cell_type": "markdown",
   "id": "80ab74c1",
   "metadata": {},
   "source": [
    "#### **Model Diagnostics - Residual Analysis**\n",
    "\n",
    "Variance of the residual has to be constant across different values of the predicted value (Y') - a property known as **homoscedasticity**. A **non-constant variance of the residuals is known as heteroscedasticity** - not desired. If there is heteroscedasticity, a residual plot between standardised residual values and standardised predicted values, will be funnel shaped. To standardize, subtract from mean and divide by standard deviation."
   ]
  },
  {
   "cell_type": "code",
   "execution_count": 32,
   "id": "b635124e",
   "metadata": {},
   "outputs": [
    {
     "data": {
      "image/png": "[encoded data removed]",
      "text/plain": [
       "<Figure size 432x288 with 1 Axes>"
      ]
     },
     "metadata": {
      "needs_background": "light"
     },
     "output_type": "display_data"
    }
   ],
   "source": [
    "def get_std_values(vals):\n",
    "  return(vals - vals.mean())/vals.std()\n",
    "x_axis = get_std_values(mba_salary_lm.fittedvalues)\n",
    "y_axis = get_std_values(mba_salary_lm.resid)\n",
    "plt.scatter(x_axis, y_axis)\n",
    "plt.xlabel(\"Standardised Predicted values\")\n",
    "plt.ylabel(\"Standardised Residual Values\")\n",
    "plt.title(\"Residual Plot\")\n",
    "plt.show()"
   ]
  },
  {
   "cell_type": "markdown",
   "id": "7fdaa6d9",
   "metadata": {},
   "source": [
    "**The residual plot is not funnel shaped. Hence residuals have constant variance.**"
   ]
  },
  {
   "cell_type": "markdown",
   "id": "90131213",
   "metadata": {},
   "source": [
    "#### **Model Diagnostics - Oulier Detection**\n",
    "Outliers are observations whose values show a large deviation from the mean value. Their presence can have a significant influence on the values of the regression coefficients. Hence we use Z-Score to identify their existence in the data. Any obervation with an Z-Score of more than 3.0 is an outlier. "
   ]
  },
  {
   "cell_type": "code",
   "execution_count": 33,
   "id": "1bd4bcbb",
   "metadata": {},
   "outputs": [
    {
     "data": {
      "text/html": [
       "<div>\n",
       "<style scoped>\n",
       "    .dataframe tbody tr th:only-of-type {\n",
       "        vertical-align: middle;\n",
       "    }\n",
       "\n",
       "    .dataframe tbody tr th {\n",
       "        vertical-align: top;\n",
       "    }\n",
       "\n",
       "    .dataframe thead th {\n",
       "        text-align: right;\n",
       "    }\n",
       "</style>\n",
       "<table border=\"1\" class=\"dataframe\">\n",
       "  <thead>\n",
       "    <tr style=\"text-align: right;\">\n",
       "      <th></th>\n",
       "      <th>S. No.</th>\n",
       "      <th>Percentage in Grade 10</th>\n",
       "      <th>Salary</th>\n",
       "      <th>z_score_salary</th>\n",
       "    </tr>\n",
       "  </thead>\n",
       "  <tbody>\n",
       "  </tbody>\n",
       "</table>\n",
       "</div>"
      ],
      "text/plain": [
       "Empty DataFrame\n",
       "Columns: [S. No., Percentage in Grade 10, Salary, z_score_salary]\n",
       "Index: []"
      ]
     },
     "execution_count": 33,
     "metadata": {},
     "output_type": "execute_result"
    }
   ],
   "source": [
    "#from scipy.stats import zscore\n",
    "mba_salary_df['z_score_salary'] = zscore(mba_salary_df.Salary)\n",
    "#mba_salary_df.head()\n",
    "mba_salary_df[(mba_salary_df.z_score_salary > 3.0)| (mba_salary_df.z_score_salary< -3.0)]"
   ]
  },
  {
   "cell_type": "markdown",
   "id": "9ed641af",
   "metadata": {},
   "source": [
    "**Hence there is no outliner.**"
   ]
  },
  {
   "cell_type": "markdown",
   "id": "1f3cbd9e",
   "metadata": {},
   "source": [
    "#### **Model Diagnostics - Finding highly influential Observations using Cooks's distance.**\n",
    "This distance measures how much the predicted value of the dependent variable changes for all observations on the sample when a particular observation is removed from the sample while estimating the regression parameters. get_influence() returns the influence of each observations and cook_distance variable provides Cook's distance measures. An observation with Cook's distance of more than 1 is highly influential."
   ]
  },
  {
   "cell_type": "code",
   "execution_count": 34,
   "id": "1da9b6b1",
   "metadata": {},
   "outputs": [
    {
     "data": {
      "image/png": "[encoded data removed]",
      "text/plain": [
       "<Figure size 432x288 with 1 Axes>"
      ]
     },
     "metadata": {
      "needs_background": "light"
     },
     "output_type": "display_data"
    }
   ],
   "source": [
    "import numpy as np\n",
    "mba_influence = mba_salary_lm.get_influence()\n",
    "(c,p) = mba_influence.cooks_distance\n",
    "plt.stem(np.arange(len(train_X)), np.round(c,3))\n",
    "plt.xlabel(\"Row Index\")\n",
    "plt.ylabel(\"Cooks Distance\")\n",
    "plt.show()"
   ]
  },
  {
   "cell_type": "markdown",
   "id": "a269fb2d",
   "metadata": {},
   "source": [
    "**There is no observation with Cooks's distance > 1. Hence none of them are influential.**"
   ]
  },
  {
   "cell_type": "markdown",
   "id": "50fcb968",
   "metadata": {},
   "source": [
    "#### **Making predictions on validation set and measuring accuracy - R-Squared and RMSE** "
   ]
  },
  {
   "cell_type": "code",
   "execution_count": 35,
   "id": "5bef115f",
   "metadata": {},
   "outputs": [
    {
     "name": "stdout",
     "output_type": "stream",
     "text": [
      "R2 Score = 0.4536705380726962\n",
      "RMSE =  61393.28235186982\n"
     ]
    }
   ],
   "source": [
    "#import numpy as np\n",
    "#from sklearn.metrics import r2_score, mean_squared_error\n",
    "pred_y = mba_salary_lm.predict(test_X)\n",
    "print('R2 Score =',np.abs(r2_score(test_y,pred_y)))\n",
    "print('RMSE = ', np.sqrt(mean_squared_error(test_y,pred_y)))"
   ]
  },
  {
   "cell_type": "markdown",
   "id": "de872f20",
   "metadata": {},
   "source": [
    "### **References**"
   ]
  },
  {
   "cell_type": "markdown",
   "id": "bc3a1d59",
   "metadata": {},
   "source": [
    "https://en.wikipedia.org/wiki/Python_(programming_language)\n",
    "\n",
    "https://en.wikipedia.org/wiki/Supervised_learning#:~:text=Supervised%20learning%20(SL)%20is%20the,on%20example%20input%2Doutput%20pairs.&text=A%20supervised%20learning%20algorithm%20analyzes,used%20for%20mapping%20new%20examples.\n",
    "\n",
    "https://en.wikipedia.org/wiki/Linear_regression\n",
    "\n",
    "https://en.wikipedia.org/wiki/Simple_linear_regression\n",
    "\n",
    "https://en.wikipedia.org/wiki/Ordinary_least_squares\n",
    "\n",
    "https://en.wikipedia.org/wiki/Root-mean-square_deviation\n",
    "\n",
    "https://en.wikipedia.org/wiki/Heteroscedasticity\n",
    "\n",
    "**For Anaconda Distribution platform** : https://www.anaconda.com/products/individual\n"
   ]
  }
 ],
 "metadata": {
  "kernelspec": {
   "display_name": "Python 3 (ipykernel)",
   "language": "python",
   "name": "python3"
  },
  "language_info": {
   "codemirror_mode": {
    "name": "ipython",
    "version": 3
   },
   "file_extension": ".py",
   "mimetype": "text/x-python",
   "name": "python",
   "nbconvert_exporter": "python",
   "pygments_lexer": "ipython3",
   "version": "3.8.11"
  }
 },
 "nbformat": 4,
 "nbformat_minor": 5
}
